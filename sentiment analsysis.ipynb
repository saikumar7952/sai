{
 "cells": [
  {
   "cell_type": "code",
   "execution_count": 84,
   "id": "09d06ea4-b1d4-4d30-94a6-5da232835750",
   "metadata": {},
   "outputs": [],
   "source": [
    "import nltk"
   ]
  },
  {
   "cell_type": "code",
   "execution_count": 85,
   "id": "e34b009c-e8e5-4cf7-88f8-f98158728906",
   "metadata": {},
   "outputs": [
    {
     "name": "stderr",
     "output_type": "stream",
     "text": [
      "[nltk_data] Downloading package stopwords to\n",
      "[nltk_data]     C:\\Users\\keert\\AppData\\Roaming\\nltk_data...\n",
      "[nltk_data]   Package stopwords is already up-to-date!\n"
     ]
    },
    {
     "data": {
      "text/plain": [
       "True"
      ]
     },
     "execution_count": 85,
     "metadata": {},
     "output_type": "execute_result"
    }
   ],
   "source": [
    "nltk.download('stopwords')"
   ]
  },
  {
   "cell_type": "code",
   "execution_count": 86,
   "id": "b6857cba-31d0-400c-972c-4c56bc24be0f",
   "metadata": {},
   "outputs": [
    {
     "ename": "ModuleNotFoundError",
     "evalue": "No module named 'wordcloud'",
     "output_type": "error",
     "traceback": [
      "\u001b[1;31m---------------------------------------------------------------------------\u001b[0m",
      "\u001b[1;31mModuleNotFoundError\u001b[0m                       Traceback (most recent call last)",
      "Cell \u001b[1;32mIn[86], line 11\u001b[0m\n\u001b[0;32m      9\u001b[0m \u001b[38;5;28;01mimport\u001b[39;00m \u001b[38;5;21;01mmatplotlib\u001b[39;00m\u001b[38;5;21;01m.\u001b[39;00m\u001b[38;5;21;01mpyplot\u001b[39;00m \u001b[38;5;28;01mas\u001b[39;00m \u001b[38;5;21;01mplt\u001b[39;00m\n\u001b[0;32m     10\u001b[0m \u001b[38;5;28;01mimport\u001b[39;00m \u001b[38;5;21;01mseaborn\u001b[39;00m \u001b[38;5;28;01mas\u001b[39;00m \u001b[38;5;21;01msns\u001b[39;00m\n\u001b[1;32m---> 11\u001b[0m \u001b[38;5;28;01mfrom\u001b[39;00m \u001b[38;5;21;01mwordcloud\u001b[39;00m \u001b[38;5;28;01mimport\u001b[39;00m WordCloud\n\u001b[0;32m     12\u001b[0m \u001b[38;5;28;01mfrom\u001b[39;00m \u001b[38;5;21;01mvaderSentiment\u001b[39;00m\u001b[38;5;21;01m.\u001b[39;00m\u001b[38;5;21;01mvaderSentiment\u001b[39;00m \u001b[38;5;28;01mimport\u001b[39;00m SentimentIntensityAnalyzer\n",
      "\u001b[1;31mModuleNotFoundError\u001b[0m: No module named 'wordcloud'"
     ]
    }
   ],
   "source": [
    "import numpy as np\n",
    "import pandas as pd\n",
    "import string\n",
    "import nltk\n",
    "from nltk.corpus import stopwords\n",
    "from nltk import PorterStemmer\n",
    "import string\n",
    "import re\n",
    "import matplotlib.pyplot as plt\n",
    "import seaborn as sns\n",
    "from wordcloud import WordCloud\n",
    "from vaderSentiment.vaderSentiment import SentimentIntensityAnalyzer"
   ]
  },
  {
   "cell_type": "code",
   "execution_count": null,
   "id": "c8296fcd-faca-4cd3-a98e-f20d86bf532a",
   "metadata": {},
   "outputs": [],
   "source": [
    "df=pd.read_csv('sentiment.csv')\n",
    "df"
   ]
  },
  {
   "cell_type": "code",
   "execution_count": null,
   "id": "1113bb8a-d5ce-4edb-a462-a6ffd339628c",
   "metadata": {},
   "outputs": [],
   "source": [
    "df.head(10)"
   ]
  },
  {
   "cell_type": "code",
   "execution_count": null,
   "id": "93914cc3-4045-471d-b822-703777345c03",
   "metadata": {},
   "outputs": [],
   "source": [
    "df.columns"
   ]
  },
  {
   "cell_type": "code",
   "execution_count": null,
   "id": "e8dc5ce8-4d15-4a75-a544-1fac058591c1",
   "metadata": {},
   "outputs": [],
   "source": [
    "df.info()"
   ]
  },
  {
   "cell_type": "code",
   "execution_count": null,
   "id": "2c7ace76-d5ba-43e6-bbba-bf957a4f37de",
   "metadata": {},
   "outputs": [],
   "source": [
    "df.dtypes"
   ]
  },
  {
   "cell_type": "code",
   "execution_count": null,
   "id": "66d42553-13cd-4052-934e-c62d51c33e31",
   "metadata": {},
   "outputs": [],
   "source": [
    "\n",
    "df.shape"
   ]
  },
  {
   "cell_type": "code",
   "execution_count": null,
   "id": "230eb074-5949-4460-baee-10b596195919",
   "metadata": {},
   "outputs": [],
   "source": [
    "df.isnull().sum()"
   ]
  },
  {
   "cell_type": "code",
   "execution_count": null,
   "id": "83c77d13-19b8-4f5c-8fb2-0b26d36e4174",
   "metadata": {},
   "outputs": [],
   "source": [
    "df['airline_sentiment_gold'].unique()"
   ]
  },
  {
   "cell_type": "code",
   "execution_count": null,
   "id": "cf7a9746-266a-4d2b-a289-7897d9d6bb54",
   "metadata": {},
   "outputs": [],
   "source": [
    "df['negativereason'].unique()"
   ]
  },
  {
   "cell_type": "code",
   "execution_count": null,
   "id": "6d28ba16-80e6-42a2-a4a3-74bbb606ceea",
   "metadata": {},
   "outputs": [],
   "source": [
    "df.drop('negativereason',axis=1,inplace=True)"
   ]
  },
  {
   "cell_type": "code",
   "execution_count": null,
   "id": "2dde7666-8761-450e-a138-cdee334e0804",
   "metadata": {},
   "outputs": [],
   "source": [
    "cols=['airline_sentiment_gold','tweet_coord','negativereason_confidence']\n",
    "df.drop(cols,axis=1,inplace=True)"
   ]
  },
  {
   "cell_type": "code",
   "execution_count": null,
   "id": "6b858f4b-fcb2-4c08-bc13-52be01e5d818",
   "metadata": {},
   "outputs": [],
   "source": [
    "df"
   ]
  },
  {
   "cell_type": "code",
   "execution_count": null,
   "id": "dee3822e-2f7d-42b0-9e0d-fdd7b439b010",
   "metadata": {},
   "outputs": [],
   "source": [
    "df.isnull().sum()"
   ]
  },
  {
   "cell_type": "code",
   "execution_count": null,
   "id": "9618d998-62b3-4ec0-aa69-72f225d44e47",
   "metadata": {},
   "outputs": [],
   "source": [
    "df.drop('negativereason_gold',axis=1,inplace=True)"
   ]
  },
  {
   "cell_type": "code",
   "execution_count": null,
   "id": "41974e6b-5310-4b12-92eb-5b9209fe8816",
   "metadata": {},
   "outputs": [],
   "source": [
    "cols1=['tweet_location','user_timezone']\n",
    "df.drop(cols1,axis=1,inplace=True)"
   ]
  },
  {
   "cell_type": "code",
   "execution_count": null,
   "id": "d660ec0e-a4b7-4fcd-97cb-5f4167778ce8",
   "metadata": {},
   "outputs": [],
   "source": [
    "df.isnull().sum()"
   ]
  },
  {
   "cell_type": "code",
   "execution_count": null,
   "id": "8fcdda9d-3eec-4543-938b-8dc8b5ab9272",
   "metadata": {},
   "outputs": [],
   "source": [
    "display(df.shape)\n",
    "display(df.info())"
   ]
  },
  {
   "cell_type": "code",
   "execution_count": null,
   "id": "a6c6bdb0-a921-4011-b2f3-85f8026e2dd5",
   "metadata": {},
   "outputs": [],
   "source": [
    "df = df[['airline_sentiment','text']]\n",
    "df"
   ]
  },
  {
   "cell_type": "code",
   "execution_count": null,
   "id": "73d03d00-a35d-47de-99d7-0c685ddef9ba",
   "metadata": {},
   "outputs": [],
   "source": [
    "sns.countplot(data=df,x='airline_sentiment')\n",
    "plt.title('Graph-1-Airline Sentiment Distribution')"
   ]
  },
  {
   "cell_type": "code",
   "execution_count": null,
   "id": "41f21a56-8ce0-48dc-88f8-eb7ad53e1e3c",
   "metadata": {},
   "outputs": [],
   "source": [
    "df['count_word'] = df['text'].apply(lambda x : len(x.split(' ')))\n",
    "sns.histplot(data = df , x='count_word',kde=True)\n",
    "plt.title('Graph-2-Number de Word Distribution without any Cleaning Task')\n",
    "plt.show()"
   ]
  },
  {
   "cell_type": "code",
   "execution_count": null,
   "id": "b56c65ce-ad1f-4ae2-be3f-b51470a39c80",
   "metadata": {},
   "outputs": [],
   "source": [
    "sns.histplot(data = df , x='count_word',hue='airline_sentiment',alpha=0.6,kde=True)\n",
    "plt.title('Graph-3-Number de Word Distribution without any Cleaning Task')\n",
    "plt.show()"
   ]
  },
  {
   "cell_type": "code",
   "execution_count": null,
   "id": "9e27cb8e-921a-4336-9486-e9c9d8070594",
   "metadata": {},
   "outputs": [],
   "source": [
    "sns.boxplot(data = df , y='count_word',x='airline_sentiment')\n",
    "plt.title('Graph-3(1)=Boxplot Number of Word Across Tweets Categories')\n",
    "plt.show()"
   ]
  },
  {
   "cell_type": "code",
   "execution_count": null,
   "id": "78b4cc05-1302-4663-b5e5-8d8af41b9ab9",
   "metadata": {},
   "outputs": [],
   "source": [
    "df.loc[np.logical_or(df['count_word']>35,df['count_word']<=5),:]"
   ]
  },
  {
   "cell_type": "code",
   "execution_count": null,
   "id": "4e565fd4-0670-4085-b596-8591684f6146",
   "metadata": {},
   "outputs": [],
   "source": [
    "import re\n",
    "from nltk.corpus import stopwords\n",
    "from nltk.stem import PorterStemmer\n",
    "from nltk.tokenize import word_tokenize"
   ]
  },
  {
   "cell_type": "code",
   "execution_count": null,
   "id": "6b35113b-70ac-4b1f-8bcf-ec9cda810a1f",
   "metadata": {},
   "outputs": [],
   "source": [
    "# punctuation Removal\n",
    "def remove_punctuation(text):\n",
    "    return re.sub(r'[^\\w\\s]','',text)\n",
    "#stopword removal\n",
    "def remove_stopwords(text):\n",
    "    stop_words = set(stopwords.words('english'))\n",
    "    tokens = word_tokenize(text)\n",
    "    filter_tokens = [word for word in tokens if word.lower() not in stop_words]\n",
    "    return \" \".join(filter_tokens)\n",
    "#remove numeric\n",
    "def remove_numeric(text):\n",
    "    return re.sub(r'\\d+','',text)\n",
    "#Stemming\n",
    "def apply_stemming(text):\n",
    "    stemmer = PorterStemmer()\n",
    "    tokens = word_tokenize(text)\n",
    "    stemmed_tokens = [stemmer.stem(word) for word in tokens]\n",
    "    return \" \".join(stemmed_tokens)\n",
    "def remove_mentions(text):\n",
    "    return re.sub(r'@\\w+','',text)"
   ]
  },
  {
   "cell_type": "code",
   "execution_count": null,
   "id": "cfe77808-b865-4637-babd-ca32f7f9ea03",
   "metadata": {},
   "outputs": [],
   "source": [
    "import nltk\n",
    "nltk.download('punkt')\n",
    "from nltk.tokenize import word_tokenize\n",
    "from nltk.stem import PorterStemmer\n",
    "def apply_stemming(text):\n",
    "    stemmer = PorterStemmer()\n",
    "    tokens = word_tokenize(text)\n",
    "    stemmed_tokens = [stemmer.stem(word) for word in tokens]\n",
    "    return \" \".join(stemmed_tokens)\n",
    "input_text = \"walking throw the street, a passenger walked toward me, talking␣about a walked chicken on the streets\"\n",
    "stemmed_text = apply_stemming(input_text)\n",
    "print(stemmed_text)"
   ]
  },
  {
   "cell_type": "code",
   "execution_count": null,
   "id": "e675ca0d-ebc7-49b8-b34e-fd255b62076d",
   "metadata": {},
   "outputs": [],
   "source": [
    "apply_stemming('walking throw the street , a passenger walked toward me talking about a walked chicken on the streets')"
   ]
  },
  {
   "cell_type": "code",
   "execution_count": null,
   "id": "1f4a2823-c37b-4760-aabe-42402f72ec63",
   "metadata": {},
   "outputs": [],
   "source": [
    "def text_preprocessing(text):\n",
    "    sentence = remove_mentions(text)\n",
    "    sentence = remove_punctuation(sentence)\n",
    "    sentence = remove_stopwords(sentence)\n",
    "    sentence = remove_numeric(sentence)\n",
    "    sentence = apply_stemming(sentence)\n",
    "    return sentence"
   ]
  },
  {
   "cell_type": "code",
   "execution_count": null,
   "id": "c7f35b36-a7fb-4f02-88e9-ac4cc922830a",
   "metadata": {},
   "outputs": [],
   "source": [
    "text_preprocessing('walking throw the street , a passenger walked toward me␣,talking about a walked chicken on the streets')\n"
   ]
  },
  {
   "cell_type": "code",
   "execution_count": null,
   "id": "4371db74-8579-4608-8427-3852775aa985",
   "metadata": {},
   "outputs": [],
   "source": [
    "df.loc[:,'new_text'] = df['text'].apply(lambda x : text_preprocessing(x))"
   ]
  },
  {
   "cell_type": "code",
   "execution_count": null,
   "id": "c222cee2-c34d-485c-8a41-a2806aad4882",
   "metadata": {},
   "outputs": [],
   "source": [
    "df.loc[:,'new_count_word'] = df['new_text'].apply(lambda x : len(x.split(' ')))\n",
    "sns.histplot(data = df , x='new_count_word',kde=True)\n",
    "plt.title('Graph-5-Number of Word Distribution after Cleaning Task')\n",
    "plt.show()"
   ]
  },
  {
   "cell_type": "code",
   "execution_count": null,
   "id": "ed66c12e-f3ba-4f2d-b90e-ccf74929ef26",
   "metadata": {},
   "outputs": [],
   "source": [
    "sns.countplot(data=df,x='airline_sentiment')\n",
    "plt.title('Graph-1(a)-Airline Sentiment Distribution-after cleaning the data')\n",
    "plt.show()"
   ]
  },
  {
   "cell_type": "code",
   "execution_count": null,
   "id": "972c0c2d-f4d1-488a-8310-bdb281586762",
   "metadata": {},
   "outputs": [],
   "source": [
    "sns.histplot(data = df , x='count_word',hue='airline_sentiment',alpha=0.9,kde=True)\n",
    "plt.title('Graph-3-Number de Word Distribution after Cleaning Task')\n",
    "plt.show()"
   ]
  },
  {
   "cell_type": "code",
   "execution_count": null,
   "id": "95f340a3-4fd8-4053-8de1-bbc01ffae2bb",
   "metadata": {},
   "outputs": [],
   "source": []
  },
  {
   "cell_type": "code",
   "execution_count": null,
   "id": "61f9ae9c-10fa-4beb-8f88-365582a07862",
   "metadata": {},
   "outputs": [],
   "source": []
  }
 ],
 "metadata": {
  "kernelspec": {
   "display_name": "Python 3 (ipykernel)",
   "language": "python",
   "name": "python3"
  },
  "language_info": {
   "codemirror_mode": {
    "name": "ipython",
    "version": 3
   },
   "file_extension": ".py",
   "mimetype": "text/x-python",
   "name": "python",
   "nbconvert_exporter": "python",
   "pygments_lexer": "ipython3",
   "version": "3.11.7"
  }
 },
 "nbformat": 4,
 "nbformat_minor": 5
}
